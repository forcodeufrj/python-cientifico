{
 "cells": [
  {
   "cell_type": "markdown",
   "source": [
    "# Exercícios da biblioteca Numpy"
   ],
   "metadata": {}
  },
  {
   "cell_type": "code",
   "execution_count": 2,
   "source": [
    "import numpy as np"
   ],
   "outputs": [],
   "metadata": {}
  },
  {
   "cell_type": "markdown",
   "source": [
    "## Problema 1\r\n",
    "Uma planta industrial precisa monitorar os pHs de um processo de fermentação alcoólica da cana de açúcar, dentro de um reator, a cada 5 segundos. A começar pelo tempo 0, o monitoramento gera uma lista com 100 valores em segundos. Para auxiliar ao operador do reator e, também, para padronizar a aquisição dos valores de pH, uma matriz quadrada é disponibilizada para consulta, contendo os tempos em que é feito um registro de pH. Represente a matriz, bem como seu número de dimensões."
   ],
   "metadata": {}
  },
  {
   "cell_type": "code",
   "execution_count": 3,
   "source": [
    "a = np.arange(0,5*100,5).reshape(10,-1)\r\n",
    "print('A matriz é:')\r\n",
    "print(a)\r\n",
    "print('O número de dimensões das matrizes é:', a.ndim)"
   ],
   "outputs": [
    {
     "output_type": "stream",
     "name": "stdout",
     "text": [
      "A matriz é:\n",
      "[[  0   5  10  15  20  25  30  35  40  45]\n",
      " [ 50  55  60  65  70  75  80  85  90  95]\n",
      " [100 105 110 115 120 125 130 135 140 145]\n",
      " [150 155 160 165 170 175 180 185 190 195]\n",
      " [200 205 210 215 220 225 230 235 240 245]\n",
      " [250 255 260 265 270 275 280 285 290 295]\n",
      " [300 305 310 315 320 325 330 335 340 345]\n",
      " [350 355 360 365 370 375 380 385 390 395]\n",
      " [400 405 410 415 420 425 430 435 440 445]\n",
      " [450 455 460 465 470 475 480 485 490 495]]\n",
      "O número de dimensões das matrizes é: 2\n"
     ]
    }
   ],
   "metadata": {}
  },
  {
   "cell_type": "markdown",
   "source": [
    "## Problema 2\r\n",
    "Considerando a mesma matriz da questão anterior, suponha que haja dificuldade na leitura da matriz contendo os valores em segundos dispostos em linhas e que, para contornar o problema, foi definido que se adotaria a matriz com os tempos dispostos em colunas. Represente a matriz.\r\n",
    "\r\n",
    "Além disso, supondo que agora será necessário apenas a leitura de pHs com intervalo de 10 segundos entre si, começando em 0 segundos, qual será a matriz resultante? Qual será o número de elementos nela?"
   ],
   "metadata": {}
  },
  {
   "cell_type": "code",
   "execution_count": 4,
   "source": [
    "a_transposta = a.transpose(1,0)\r\n",
    "print('A transposta é:')\r\n",
    "print(a_transposta, '\\n')\r\n",
    "\r\n",
    "b = np.delete(a_transposta, [1,3,5,7,9], 0)\r\n",
    "print('A matriz, adotando o intervalo de 10 segundos, será:')\r\n",
    "print (b)\r\n",
    "print('Seu número de elementos será:', b.size)"
   ],
   "outputs": [
    {
     "output_type": "stream",
     "name": "stdout",
     "text": [
      "A transposta é:\n",
      "[[  0  50 100 150 200 250 300 350 400 450]\n",
      " [  5  55 105 155 205 255 305 355 405 455]\n",
      " [ 10  60 110 160 210 260 310 360 410 460]\n",
      " [ 15  65 115 165 215 265 315 365 415 465]\n",
      " [ 20  70 120 170 220 270 320 370 420 470]\n",
      " [ 25  75 125 175 225 275 325 375 425 475]\n",
      " [ 30  80 130 180 230 280 330 380 430 480]\n",
      " [ 35  85 135 185 235 285 335 385 435 485]\n",
      " [ 40  90 140 190 240 290 340 390 440 490]\n",
      " [ 45  95 145 195 245 295 345 395 445 495]] \n",
      "\n",
      "A matriz, adotando o intervalo de 10 segundos, será:\n",
      "[[  0  50 100 150 200 250 300 350 400 450]\n",
      " [ 10  60 110 160 210 260 310 360 410 460]\n",
      " [ 20  70 120 170 220 270 320 370 420 470]\n",
      " [ 30  80 130 180 230 280 330 380 430 480]\n",
      " [ 40  90 140 190 240 290 340 390 440 490]]\n",
      "Seu número de elementos será: 50\n"
     ]
    }
   ],
   "metadata": {}
  },
  {
   "cell_type": "markdown",
   "source": [
    "## Problema 3\r\n",
    "Um processo muito importante, com aplicações variadas, como calcular integrais de linha sob campos vetoriais ou até definir bases ortonormais de subespaços vetoriais, é a normalização de um vetor. Assim, um vetor no R<sup>32</sup>, com entradas que variam crescentemente, com termo constante de soma igual a 2, começando de 6, precisa ser normalizado para resultar no vetor $x$. Apresente $x$."
   ],
   "metadata": {}
  },
  {
   "cell_type": "code",
   "execution_count": 8,
   "source": [
    "# O vetor está em R^32, logo, tem 32 entradas. Estas seguem uma PA, com uma soma constante de 2 unidades, começando em 6.\r\n",
    "# Assim, o último termo da PA segue a lógica de 6 + (32 - 1)*2.\r\n",
    "vetor = np.arange(6, 6 + 32*2,2)\r\n",
    "# Foi usado 6 + 32*2 pois o último termo, resultado dessa expressão, não é incluído pelo arange. O intervalo é aberto no último ponto.\r\n",
    "\r\n",
    "norma = np.linalg.norm(vetor)\r\n",
    "\r\n",
    "vetor_normalizado = vetor/norma\r\n",
    "\r\n",
    "vetor_normalizado"
   ],
   "outputs": [
    {
     "output_type": "execute_result",
     "data": {
      "text/plain": [
       "array([0.02564946, 0.03419928, 0.0427491 , 0.05129892, 0.05984874,\n",
       "       0.06839856, 0.07694838, 0.0854982 , 0.09404802, 0.10259784,\n",
       "       0.11114765, 0.11969747, 0.12824729, 0.13679711, 0.14534693,\n",
       "       0.15389675, 0.16244657, 0.17099639, 0.17954621, 0.18809603,\n",
       "       0.19664585, 0.20519567, 0.21374549, 0.22229531, 0.23084513,\n",
       "       0.23939495, 0.24794477, 0.25649459, 0.26504441, 0.27359423,\n",
       "       0.28214405, 0.29069387])"
      ]
     },
     "metadata": {},
     "execution_count": 8
    }
   ],
   "metadata": {}
  },
  {
   "cell_type": "markdown",
   "source": [
    "## Problema 4 (desafio)\r\n",
    "Numa placa de térmica, é possível determinar a temperatura do interior conhecendo-se apenas a temperatura nas bordas dela. Essa modelagem é feita da seguinte maneira: a temperatura em um ponto central da placa é igual à média aritmética dos pontos ao seu redor (isto é, à esquerda, à direnta, acima e abaixo). Sabendo isto, calcule os valores, em graus Celsius, de $x$, $y$, $z$ e $w$.\r\n",
    "\r\n",
    "!['Calor'](https://i.pinimg.com/originals/96/f2/00/96f2000e77cb42dde7f9181af0925d5f.jpg)\r\n",
    "\r\n",
    "#### Sugestão de resolução:\r\n",
    "- Identifique o sistema linear referente à resolução do problema.\r\n",
    "- Organize este sistema linear em uma matriz, utilizando as funções Numpy necessárias.\r\n",
    "- Crie um algoritmo de escalonamento (total ou parcial, à sua escolha) para a resolução do sistema linear - é encorajada a manipulação do código presente na lista corrigida.\r\n",
    "- Se for muito difícil, é possível usar a função \"solve\" do módulo linalg."
   ],
   "metadata": {}
  },
  {
   "cell_type": "code",
   "execution_count": 6,
   "source": [
    "def escalonamento (A, b):\r\n",
    "\r\n",
    "   M = np.concatenate( (A, b), axis=1 )\r\n",
    "   M = M.astype(float)\r\n",
    "\r\n",
    "   M = M[np.sum(abs(M),1)!=0,:]\r\n",
    "\r\n",
    "   p,n = A.shape\r\n",
    "\r\n",
    "   ### Parte I (forma escalonada)\r\n",
    "   k = 0\r\n",
    "   while k < p-1:\r\n",
    "  \r\n",
    "      c = np.argmax(np.sum(abs(M[k:,:]),0)!=0)\r\n",
    " \r\n",
    "      if M[k,c]==0:\r\n",
    "\r\n",
    "         r = (k+1)+np.argmax(M[(k+1):,c]!=0)\r\n",
    "\r\n",
    "         M[[k,r],:] = M[[r,k],:]\r\n",
    "\r\n",
    "      for r in range(k+1,p):\r\n",
    "         M[r,c+1:] = M[r,c+1:] - (M[r,c]/M[k,c]) * M[k,c+1:]\r\n",
    "         M[r,c] = 0\r\n",
    "\r\n",
    "      M=M[np.sum(abs(M),1)!=0,:]\r\n",
    "\r\n",
    "      p = M.shape[0]\r\n",
    "\r\n",
    "      k = k + 1\r\n",
    "   \r\n",
    "   ### Parte II (forma totalmente escalonada)\r\n",
    "   for k in range (p-1,-1,-1):\r\n",
    "\r\n",
    "      c = np.argmax(M[k,:]!=0)\r\n",
    "\r\n",
    "      M[k,c+1:] = M[k,c+1:] / M[k,c]\r\n",
    "      M[k,c] = 1\r\n",
    "\r\n",
    "      for r in range(0,k):\r\n",
    "         M[r,c+1:] = M[r,c+1:] - M[r,c]*M[k,c+1:]\r\n",
    "         M[r,c] = 0\r\n",
    "\r\n",
    "   E = M[:,0:n]\r\n",
    "   x = M[:,n:n+1]\r\n",
    "   return E, x "
   ],
   "outputs": [],
   "metadata": {}
  },
  {
   "cell_type": "code",
   "execution_count": 7,
   "source": [
    "A = np.array([\r\n",
    "    [4,-1,-1,0],\r\n",
    "    [-1,4,0,-1],\r\n",
    "    [-1,0,4,-1],\r\n",
    "    [0,-1,-1,4]\r\n",
    "])\r\n",
    "b = np.array([\r\n",
    "    [3],\r\n",
    "    [-22],\r\n",
    "    [14],\r\n",
    "    [5]\r\n",
    "])\r\n",
    "\r\n",
    "E,x = escalonamento(A,b)\r\n",
    "\r\n",
    "print (E,'\\n')\r\n",
    "print (x, '\\n')\r\n",
    "\r\n",
    "print ('O valor de x é de', round(float(x[0]),2), '°C')\r\n",
    "print ('O valor de y é de', round(float(x[1]),2), '°C')\r\n",
    "print ('O valor de z é de', round(float(x[2]),2), '°C')\r\n",
    "print ('O valor de w é de', round(float(x[3]),2), '°C')"
   ],
   "outputs": [
    {
     "output_type": "stream",
     "name": "stdout",
     "text": [
      "[[1. 0. 0. 0.]\n",
      " [0. 1. 0. 0.]\n",
      " [0. 0. 1. 0.]\n",
      " [0. 0. 0. 1.]] \n",
      "\n",
      "[[ 0.41666667]\n",
      " [-5.16666667]\n",
      " [ 3.83333333]\n",
      " [ 0.91666667]] \n",
      "\n",
      "O valor de x é de 0.42 °C\n",
      "O valor de y é de -5.17 °C\n",
      "O valor de z é de 3.83 °C\n",
      "O valor de w é de 0.92 °C\n"
     ]
    }
   ],
   "metadata": {}
  }
 ],
 "metadata": {
  "orig_nbformat": 4,
  "language_info": {
   "name": "python",
   "version": "3.9.7",
   "mimetype": "text/x-python",
   "codemirror_mode": {
    "name": "ipython",
    "version": 3
   },
   "pygments_lexer": "ipython3",
   "nbconvert_exporter": "python",
   "file_extension": ".py"
  },
  "kernelspec": {
   "name": "python3",
   "display_name": "Python 3.9.7 64-bit"
  },
  "interpreter": {
   "hash": "7a95bcb2b67717f6d356336cb9184f2ce0db626d3677b31e37bbc616a1d62807"
  }
 },
 "nbformat": 4,
 "nbformat_minor": 2
}