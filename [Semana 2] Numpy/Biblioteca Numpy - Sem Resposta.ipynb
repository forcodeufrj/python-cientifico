{
 "cells": [
  {
   "cell_type": "markdown",
   "source": [
    "# Exercícios da biblioteca Numpy"
   ],
   "metadata": {}
  },
  {
   "cell_type": "markdown",
   "source": [
    "## Problema 1\r\n",
    "Uma planta industrial precisa monitorar os pHs de um processo de fermentação alcoólica da cana de açúcar, dentro de um reator, a cada 5 segundos. A começar pelo tempo 0, o monitoramento gera uma lista com 100 valores em segundos. Para auxiliar ao operador do reator e, também, para padronizar a aquisição dos valores de pH, uma matriz quadrada é disponibilizada para consulta, contendo os tempos em que é feito um registro de pH. Represente a matriz, bem como seu número de dimensões."
   ],
   "metadata": {}
  },
  {
   "cell_type": "markdown",
   "source": [
    "## Problema 2\r\n",
    "Considerando a mesma matriz da questão anterior, suponha que haja dificuldade na leitura da matriz contendo os valores em segundos dispostos em linhas e que, para contornar o problema, foi definido que se adotaria a matriz com os tempos dispostos em colunas. Represente a matriz.\r\n",
    "\r\n",
    "Além disso, supondo que agora será necessário apenas a leitura de pHs com intervalo de 10 segundos entre si, começando em 0 segundos, qual será a matriz resultante? Qual será o número de elementos nela?"
   ],
   "metadata": {}
  },
  {
   "cell_type": "markdown",
   "source": [
    "## Problema 3\r\n",
    "Um processo muito importante, com aplicações variadas, como calcular integrais de linha sob campos vetoriais ou até definir bases ortonormais de subespaços vetoriais, é a normalização de um vetor. Assim, um vetor no R<sup>32</sup>, com entradas que variam crescentemente, com termo constante de soma igual a 2, começando de 6, precisa ser normalizado para resultar no vetor $x$. Apresente $x$."
   ],
   "metadata": {}
  },
  {
   "cell_type": "markdown",
   "source": [
    "## Problema 4 (desafio)\r\n",
    "Numa placa de térmica, é possível determinar a temperatura do interior conhecendo-se apenas a temperatura nas bordas dela. Essa modelagem é feita da seguinte maneira: a temperatura em um ponto central da placa é igual à média aritmética dos pontos ao seu redor (isto é, à esquerda, à direnta, acima e abaixo). Sabendo isto, calcule os valores, em graus Celsius, de $x$, $y$, $z$ e $w$.\r\n",
    "\r\n",
    "!['Calor'](https://i.pinimg.com/originals/96/f2/00/96f2000e77cb42dde7f9181af0925d5f.jpg)\r\n",
    "\r\n",
    "#### Sugestão de resolução:\r\n",
    "- Identifique o sistema linear referente à resolução do problema.\r\n",
    "- Organize este sistema linear em uma matriz, utilizando as funções Numpy necessárias.\r\n",
    "- Crie um algoritmo de escalonamento (total ou parcial, à sua escolha) para a resolução do sistema linear - é encorajada a manipulação do código presente na lista corrigida.\r\n",
    "- Se for muito difícil, é possível usar a função \"solve\" do módulo linalg."
   ],
   "metadata": {}
  }
 ],
 "metadata": {
  "orig_nbformat": 4,
  "language_info": {
   "name": "python",
   "version": "3.9.7",
   "mimetype": "text/x-python",
   "codemirror_mode": {
    "name": "ipython",
    "version": 3
   },
   "pygments_lexer": "ipython3",
   "nbconvert_exporter": "python",
   "file_extension": ".py"
  },
  "kernelspec": {
   "name": "python3",
   "display_name": "Python 3.9.7 64-bit"
  },
  "interpreter": {
   "hash": "7a95bcb2b67717f6d356336cb9184f2ce0db626d3677b31e37bbc616a1d62807"
  }
 },
 "nbformat": 4,
 "nbformat_minor": 2
}