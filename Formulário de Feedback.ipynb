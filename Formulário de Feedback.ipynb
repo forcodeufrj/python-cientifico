{
 "cells": [
  {
   "cell_type": "markdown",
   "metadata": {},
   "source": [
    "# Formulário de Feedback"
   ]
  },
  {
   "cell_type": "markdown",
   "metadata": {},
   "source": [
    "### Acesse por este link: https://forms.gle/JtrC6toycZhKSAn36\n"
   ]
  }
 ],
 "metadata": {
  "interpreter": {
   "hash": "b1c7f6be8b8e96273b410d6e377c2ea1fc56bdf5982328958a3647b200e3c9c5"
  },
  "kernelspec": {
   "display_name": "Python 3.8.3 64-bit ('base': conda)",
   "name": "python3"
  },
  "language_info": {
   "name": "python",
   "version": "3.8.3"
  },
  "orig_nbformat": 4
 },
 "nbformat": 4,
 "nbformat_minor": 2
}
