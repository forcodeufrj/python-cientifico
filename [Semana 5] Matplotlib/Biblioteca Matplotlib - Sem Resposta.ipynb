{
 "cells": [
  {
   "cell_type": "markdown",
   "metadata": {},
   "source": [
    "# Exercícios da biblioteca Matplotlib"
   ]
  },
  {
   "cell_type": "markdown",
   "metadata": {},
   "source": [
    "### No problema 1, será usado o banco de dados da semana anterior. Faça o download para responder a questão.\n",
    "https://bit.ly/3iEXaQ2"
   ]
  },
  {
   "cell_type": "markdown",
   "metadata": {},
   "source": [
    "## Problema 1\n",
    "Na tarefa de Análise Exploratória de Dados (EDA), um procedimento comum é estudar a distribuição das variáveis, a fim de verificar a necessidade que aplicar uma padronização. A padronização das variáveis é feita quando a distribuição dos dados está distante do comportamento de uma distribuição gaussiana. Alguns algoritmos de predição são muito sensíveis à distribuição dos dados, o que afeta diretamente na capacidade do algoritmo prever corretamente a saída. Nesse sentido, para o banco de dados fornecido, faça o tratamento inicial dos dados (verifique a presença de duplicatas e valores faltantes, eliminando as duplicatas e preenchendo os valores faltantes com a média dos valores da variável correspondente) e plote os gráficos das distribuições das variáveis. Avalie a necessidade de padronização para esse banco de dados. "
   ]
  },
  {
   "cell_type": "markdown",
   "metadata": {},
   "source": [
    "## Problema 2\n",
    "A variação do coeficiente de expansão térmica do alumínio na faixa de 0 a 100°C é dada pela equação abaixo. Plote o gráfico dos valores da interpolação para o intervalo de temperatura mencionado, considerando o passo igual a 10, ou seja, um intervalo indo de 0 a 100, variando de 10 em 10. Crie o gráfico com as seguintes características: eixo x com nome 'Temperatura', eixo y com nome 'Coeficiente de expansão térmica', título com nome 'Gráfico de interpolação', linha com a cor preta, grades ativadas, marcadores com forma redonda e de cor vermelha.\n",
    "\n",
    "### k(T) = 0,22.10e-4.T + 0,009.10e-6.T² com T: °C"
   ]
  },
  {
   "cell_type": "markdown",
   "metadata": {},
   "source": [
    "## Problema 3 (desafio)\n",
    "Encontre a temperatura em que a energia de Gibbs da água na fase gasosa é igual à energia de Gibbs na fase líquida. Para isso, utilize a equação de Shomate, faça a interpolação entre as curvas de cada fase, considerando a faixa de temperatura de 0 a 200 °C e as informações fornecidas nos sites:\n",
    "#### Fase líquída: https://bit.ly/3AS9liK\n",
    "#### Fase gasosa: https://bit.ly/3vhn1mi\n",
    "#### Links úteis da documentação que são usados:\n",
    "#### https://numpy.org/doc/stable/reference/generated/numpy.vstack.html\n",
    "#### https://docs.scipy.org/doc/scipy/reference/generated/scipy.optimize.fsolve.html"
   ]
  }
 ],
 "metadata": {
  "interpreter": {
   "hash": "b1c7f6be8b8e96273b410d6e377c2ea1fc56bdf5982328958a3647b200e3c9c5"
  },
  "kernelspec": {
   "display_name": "Python 3.8.3 64-bit ('base': conda)",
   "name": "python3"
  },
  "language_info": {
   "name": "python",
   "version": "3.8.3"
  },
  "orig_nbformat": 4
 },
 "nbformat": 4,
 "nbformat_minor": 2
}
