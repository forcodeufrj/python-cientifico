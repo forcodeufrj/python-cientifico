{
 "cells": [
  {
   "cell_type": "markdown",
   "source": [
    "# Exercícios da biblioteca Math\n",
    "Nesse notebook, serão treinados algumas das funcionalidades da biblioteca Math."
   ],
   "metadata": {}
  },
  {
   "cell_type": "markdown",
   "source": [
    "## Problema 1\r\n",
    "Suponha que, numa planta industrial, é necessário realizar o reparo no topo de um reator. Para tanto, precisa-se projetar uma rampa que leve o técnico à zona de reparo. A altura do reator é de 3 m, o ângulo da rampa com a horizontal deve ser de 35°, para garantir uma subida confortável. Supondo que o material que revestirá a rampa custa 255 reais por metro e que a coluna de 3 metros que será necessária custa 300 reais, então, a planta precisará gastar, em reais:"
   ],
   "metadata": {}
  },
  {
   "cell_type": "markdown",
   "source": [
    "![Reator e rampa](https://i.pinimg.com/originals/79/00/fb/7900fb9cae485cbe42ec52525e9921a1.jpg)"
   ],
   "metadata": {}
  },
  {
   "cell_type": "code",
   "execution_count": 2,
   "source": [
    "import math"
   ],
   "outputs": [],
   "metadata": {}
  },
  {
   "cell_type": "code",
   "execution_count": 3,
   "source": [
    "h = 3 #m\r\n",
    "angulo_horizontal = math.radians(35) #converte 35° para radianos\r\n",
    "custo_rampa = 255 #reais\r\n",
    "custo_coluna = 300 #reais\r\n",
    "\r\n",
    "comprimento_rampa = h/math.sin(angulo_horizontal) #comprimento, em metros, da rampa\r\n",
    "\r\n",
    "custo_total = comprimento_rampa*custo_rampa + custo_coluna\r\n",
    "\r\n",
    "print(f'O custo da rampa será de {custo_total:.2f} reais')"
   ],
   "outputs": [
    {
     "output_type": "stream",
     "name": "stdout",
     "text": [
      "O custo da rampa será de 1633.74 reais\n"
     ]
    }
   ],
   "metadata": {}
  },
  {
   "cell_type": "markdown",
   "source": [
    "## Problema 2\r\n",
    "Ainda considerando o mesmo reator, sabe-se que sua altura é de 3 metros. O reator opera em um processo de polimerização interfacial. Assim, pode-se considerar a razão entre o volume da fase aquosa e o da fase orgânica como 0,6.\r\n",
    "\r\n",
    "Além disso, ele funciona em batelada e precisa-se que o volume de operação seja, no máximo, de 85% do volume total.\r\n",
    "\r\n",
    "Para efeitos de cálculo, pode-se considerar o reator com formato cilindrico e com diâmetro igual a 1,8 m.\r\n",
    "\r\n",
    "Qual o volume da fase aquosa (expresse o volume em litros e em duas casas decimais)?"
   ],
   "metadata": {}
  },
  {
   "cell_type": "code",
   "execution_count": 4,
   "source": [
    "razao_ao = 0.6\r\n",
    "diametro = 1.8 #m\r\n",
    "max_operacao = 0.85\r\n",
    "\r\n",
    "volume_total = (math.pi*(diametro/2)**2)*h\r\n",
    "\r\n",
    "volume_max = volume_total*max_operacao\r\n",
    "\r\n",
    "volume_aquosa_m3 = volume_max/(1+1/razao_ao) #m^3\r\n",
    "\r\n",
    "m3_para_l = lambda V: V*10**3\r\n",
    "\r\n",
    "volume_aquosa = m3_para_l(volume_aquosa_m3)\r\n",
    "\r\n",
    "print(f'O volume da fase aquosa, na operação máxima, deve ser de {volume_aquosa:.2f} litros')"
   ],
   "outputs": [
    {
     "output_type": "stream",
     "name": "stdout",
     "text": [
      "O volume da fase aquosa, na operação máxima, deve ser de 2433.36 litros\n"
     ]
    }
   ],
   "metadata": {}
  },
  {
   "cell_type": "markdown",
   "source": [
    "## Problema 3\r\n",
    "Em processos químicos, uma característica físico-química muito importante para se acompanhar é o pH. É necessário verificá-lo pois algumas reações químicas e bioquímicas só acontecem em faixas de pH específicas.\r\n",
    "\r\n",
    "Assim, sabe-se que, para a determinação da dureza da água por volumetria de complexação, é necessário que o pH esteja acima de 9,5, para que o EDTA atinja seu efeito quelante necessário.\r\n",
    "\r\n",
    "Para isso, adiciona-se um tampão amoniacal. Sabendo que o Kb da amônia é de $1,8 × 10^{-5}$, que a solução tampão foi preparada de modo que a concentração de amônia fosse de $0,145 mol/L$ e de seu ácido conjugado, o amônio, fosse de $0,025 mol/L$, o tampão pode ser usado para a titulação?"
   ],
   "metadata": {}
  },
  {
   "cell_type": "code",
   "execution_count": 5,
   "source": [
    "Kb = 1.8E-5\r\n",
    "c_amonia = 0.145 #mol/L\r\n",
    "c_amonio = 0.025 #mol/L"
   ],
   "outputs": [],
   "metadata": {}
  },
  {
   "cell_type": "code",
   "execution_count": 6,
   "source": [
    "#Dada a equação, obtida da manipulação matemática da equação da constante de basicidade: pOH = pKb + log ([ácido conjugado]/[base])\r\n",
    "\r\n",
    "pOH = -math.log10(Kb) + math.log10(c_amonio/c_amonia)\r\n",
    "\r\n",
    "pH = 14 - pOH\r\n",
    "\r\n",
    "if pH >= 9.5:\r\n",
    "    print(f'A solução tampão pode ser utilizada na titulação e o pH dela é de {pH:.1f}')\r\n",
    "\r\n",
    "else:\r\n",
    "    print(f'A solução tampão deve ser corrigida com mais adição de amônia. Seu pH é de {pH:.1f}')"
   ],
   "outputs": [
    {
     "output_type": "stream",
     "name": "stdout",
     "text": [
      "A solução tampão pode ser utilizada na titulação e o pH dela é de 10.0\n"
     ]
    }
   ],
   "metadata": {}
  }
 ],
 "metadata": {
  "interpreter": {
   "hash": "7a95bcb2b67717f6d356336cb9184f2ce0db626d3677b31e37bbc616a1d62807"
  },
  "kernelspec": {
   "name": "python3",
   "display_name": "Python 3.9.7 64-bit"
  },
  "language_info": {
   "codemirror_mode": {
    "name": "ipython",
    "version": 3
   },
   "file_extension": ".py",
   "mimetype": "text/x-python",
   "name": "python",
   "nbconvert_exporter": "python",
   "pygments_lexer": "ipython3",
   "version": "3.9.7"
  }
 },
 "nbformat": 4,
 "nbformat_minor": 2
}