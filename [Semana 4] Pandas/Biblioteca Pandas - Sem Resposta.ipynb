{
 "cells": [
  {
   "cell_type": "markdown",
   "source": [
    "# Exercícios da biblioteca Pandas"
   ],
   "metadata": {}
  },
  {
   "cell_type": "markdown",
   "source": [
    "### Todas as questões serão desenvolvidas com base no banco de dados disponibilizado no link:\r\n",
    "https://bit.ly/3iEXaQ2\r\n",
    "### Façam o download para responder a lista."
   ],
   "metadata": {}
  },
  {
   "cell_type": "markdown",
   "source": [
    "## Problema 1\r\n",
    "Você foi chamado para fazer a análise de um banco de dados do vinho branco português \"Vinho Verde\". As variáveis de entrada do banco são informações físico-químicas e a variável de saída é a qualidade atribuída ao vinho, com escala entre 0 e 10. Importe o banco de dados, identifique o tipo das variáveis, visualize as primeiras e as últimas 5 linhas e mostre suas estatísticas descritivas."
   ],
   "metadata": {}
  },
  {
   "cell_type": "markdown",
   "source": [
    "## Problema 2\r\n",
    "Identifique no banco de dados se há a presença de duplicatas e de dados faltantes. Se houver, exclua as duplicatas, calcule o total presente de dados faltantes em cada uma das variáveis e o total presente no banco de dados. Uma das técnicas de tratamento de dados faltantes é substituir o valor ausente pela média dos valores da variável correspondente. Nesse caso, aplique tal técnica."
   ],
   "metadata": {}
  },
  {
   "cell_type": "markdown",
   "source": [
    "## Problema 3\r\n",
    "Em uma tarefa de construção de modelo preditivo, uma das etapas primárias é analisar como se estabelecem as relações entre as variáveis no banco de dados. Isso é feito a partir da análise das correlações entre as variáveis entrada-entrada e entrada-saída. Geralmente, adota-se o seguinte critério: variáveis de entrada que possuem correlação acima de 85% com outras variáveis de entrada são caracterizadas como variáveis redundantes, por possuírem teor informacional semelhantes. Já as variáveis de entrada que possuem correlação abaixo de 15% com as variáveis de saída são classificadas como variáveis que não influenciarão o resultado da predição, uma vez que não exercem muita influência sobre a variável de saída. Nesse sentido, na tarefa de seleção de atributos, se busca selecionar as variáveis que possuem maior capacidade de influência no resultado da predição, enquanto que há a exclusão das variáveis redundantes. A decisão de quais variáveis serão excluídas vem do especialista, para o qual as estatísticas são apresentadas, a fim de que decida quais serão eliminadas e quais serão mantidas. Portanto, liste as variáveis que poderiam ser consideradas à exclusão e apresente a justificativa para tal decisão."
   ],
   "metadata": {}
  },
  {
   "cell_type": "markdown",
   "source": [
    "## Problema 4\r\n",
    "Por fim, gere o relatório estatístico completo do banco de dados e salve-o em HTML. Coloque como título do relatório 'Banco de Dados - Vinho Verde' e nomeie o arquivo como 'relatorio_vinhoverde'.\r\n",
    "\r\n",
    "Link com o tutorial para a instalação do módulo: https://pandas-profiling.github.io/pandas-profiling/docs/master/index.html"
   ],
   "metadata": {}
  }
 ],
 "metadata": {
  "orig_nbformat": 4,
  "language_info": {
   "name": "python",
   "version": "3.8.3"
  },
  "kernelspec": {
   "name": "python3",
   "display_name": "Python 3.8.3 64-bit ('base': conda)"
  },
  "interpreter": {
   "hash": "b1c7f6be8b8e96273b410d6e377c2ea1fc56bdf5982328958a3647b200e3c9c5"
  }
 },
 "nbformat": 4,
 "nbformat_minor": 2
}